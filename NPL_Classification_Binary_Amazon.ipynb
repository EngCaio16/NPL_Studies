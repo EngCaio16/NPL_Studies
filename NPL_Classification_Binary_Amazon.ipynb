{
  "cells": [
    {
      "cell_type": "markdown",
      "metadata": {},
      "source": [
        "Welcome to my text classification notebook! In this project, I worked with the Amazon Reviews dataset, which contains over 1.4 million reviews from Amazon products scraped between May 1996 and October 2018. My goal was to build a model that classifies the sentiment of these reviews as positive or negative. Using text vectorization to convert the reviews into numerical data and LinearSVC as the classifier, I achieved an accuracy of 92%. This shows a strong performance in distinguishing between sentiments based on the 'Reviews' and 'Rating' columns. Check out the steps, code, and results in the sections below!\n",
        "Source: https://www.kaggle.com/datasets/kritanjalijain/amazon-reviews/data"
      ]
    },
    {
      "cell_type": "code",
      "execution_count": 1,
      "metadata": {
        "id": "I4e7nGvho6e2"
      },
      "outputs": [],
      "source": [
        "import pandas as pd\n",
        "import numpy as np\n",
        "import tarfile\n",
        "import os\n",
        "import kagglehub\n",
        "\n",
        "from sklearn.pipeline import Pipeline\n",
        "from sklearn.feature_extraction.text import TfidfVectorizer\n",
        "from sklearn.linear_model import LogisticRegression\n",
        "from sklearn.svm import LinearSVC \n",
        "from sklearn.ensemble import RandomForestClassifier\n",
        "from sklearn.naive_bayes import MultinomialNB\n",
        "from sklearn.tree import DecisionTreeClassifier\n",
        "from sklearn.metrics import f1_score, accuracy_score\n",
        "import pandas as pd\n",
        "from catboost import CatBoostClassifier  \n",
        "\n",
        "from sklearn.metrics import classification_report\n",
        "from sklearn import metrics\n"
      ]
    },
    {
      "cell_type": "code",
      "execution_count": 2,
      "metadata": {
        "colab": {
          "base_uri": "https://localhost:8080/"
        },
        "id": "Vs3Xcj16mwiG",
        "outputId": "6718d139-d72b-48e3-c38d-53d8d1e64258"
      },
      "outputs": [
        {
          "name": "stdout",
          "output_type": "stream",
          "text": [
            "Warning: Looks like you're using an outdated `kagglehub` version (installed: 0.3.9), please consider upgrading to the latest version (0.3.10).\n",
            "Path to dataset files: C:\\Users\\caioe\\.cache\\kagglehub\\datasets\\kritanjalijain\\amazon-reviews\\versions\\2\n"
          ]
        }
      ],
      "source": [
        "\n",
        "\n",
        "# Download latest version\n",
        "path = kagglehub.dataset_download(\"kritanjalijain/amazon-reviews\")\n",
        "\n",
        "print(\"Path to dataset files:\", path)"
      ]
    },
    {
      "cell_type": "code",
      "execution_count": 3,
      "metadata": {
        "colab": {
          "base_uri": "https://localhost:8080/"
        },
        "id": "XvrMDZjwp5fg",
        "outputId": "6fcdad0a-26ee-403f-8f66-a711e9a0ccfb"
      },
      "outputs": [
        {
          "name": "stdout",
          "output_type": "stream",
          "text": [
            "Files in the directory ['amazon_review_polarity_csv.tgz', 'test.csv', 'train.csv']\n"
          ]
        }
      ],
      "source": [
        "\n",
        "\n",
        "files = os.listdir(path)  # Lista todos os arquivos e pastas no diretório\n",
        "\n",
        "print(\"Files in the directory\", files)\n"
      ]
    },
    {
      "cell_type": "code",
      "execution_count": 4,
      "metadata": {
        "id": "YOdRs3qC06nt"
      },
      "outputs": [],
      "source": [
        "test = pd.read_csv(path + \"/test.csv\")\n",
        "train = pd.read_csv(path + \"/train.csv\")"
      ]
    },
    {
      "cell_type": "markdown",
      "metadata": {},
      "source": [
        "EDA"
      ]
    },
    {
      "cell_type": "code",
      "execution_count": 5,
      "metadata": {
        "id": "cnqhO_t3s827"
      },
      "outputs": [
        {
          "data": {
            "text/html": [
              "<div>\n",
              "<style scoped>\n",
              "    .dataframe tbody tr th:only-of-type {\n",
              "        vertical-align: middle;\n",
              "    }\n",
              "\n",
              "    .dataframe tbody tr th {\n",
              "        vertical-align: top;\n",
              "    }\n",
              "\n",
              "    .dataframe thead th {\n",
              "        text-align: right;\n",
              "    }\n",
              "</style>\n",
              "<table border=\"1\" class=\"dataframe\">\n",
              "  <thead>\n",
              "    <tr style=\"text-align: right;\">\n",
              "      <th></th>\n",
              "      <th>2</th>\n",
              "      <th>Great CD</th>\n",
              "      <th>My lovely Pat has one of the GREAT voices of her generation. I have listened to this CD for YEARS and I still LOVE IT. When I'm in a good mood it makes me feel better. A bad mood just evaporates like sugar in the rain. This CD just oozes LIFE. Vocals are jusat STUUNNING and lyrics just kill. One of life's hidden gems. This is a desert isle CD in my book. Why she never made it big is just beyond me. Everytime I play this, no matter black, white, young, old, male, female EVERYBODY says one thing \"Who was that singing ?\"</th>\n",
              "    </tr>\n",
              "  </thead>\n",
              "  <tbody>\n",
              "    <tr>\n",
              "      <th>0</th>\n",
              "      <td>2</td>\n",
              "      <td>One of the best game music soundtracks - for a...</td>\n",
              "      <td>Despite the fact that I have only played a sma...</td>\n",
              "    </tr>\n",
              "    <tr>\n",
              "      <th>1</th>\n",
              "      <td>1</td>\n",
              "      <td>Batteries died within a year ...</td>\n",
              "      <td>I bought this charger in Jul 2003 and it worke...</td>\n",
              "    </tr>\n",
              "    <tr>\n",
              "      <th>2</th>\n",
              "      <td>2</td>\n",
              "      <td>works fine, but Maha Energy is better</td>\n",
              "      <td>Check out Maha Energy's website. Their Powerex...</td>\n",
              "    </tr>\n",
              "    <tr>\n",
              "      <th>3</th>\n",
              "      <td>2</td>\n",
              "      <td>Great for the non-audiophile</td>\n",
              "      <td>Reviewed quite a bit of the combo players and ...</td>\n",
              "    </tr>\n",
              "    <tr>\n",
              "      <th>4</th>\n",
              "      <td>1</td>\n",
              "      <td>DVD Player crapped out after one year</td>\n",
              "      <td>I also began having the incorrect disc problem...</td>\n",
              "    </tr>\n",
              "  </tbody>\n",
              "</table>\n",
              "</div>"
            ],
            "text/plain": [
              "   2                                           Great CD  \\\n",
              "0  2  One of the best game music soundtracks - for a...   \n",
              "1  1                   Batteries died within a year ...   \n",
              "2  2              works fine, but Maha Energy is better   \n",
              "3  2                       Great for the non-audiophile   \n",
              "4  1              DVD Player crapped out after one year   \n",
              "\n",
              "  My lovely Pat has one of the GREAT voices of her generation. I have listened to this CD for YEARS and I still LOVE IT. When I'm in a good mood it makes me feel better. A bad mood just evaporates like sugar in the rain. This CD just oozes LIFE. Vocals are jusat STUUNNING and lyrics just kill. One of life's hidden gems. This is a desert isle CD in my book. Why she never made it big is just beyond me. Everytime I play this, no matter black, white, young, old, male, female EVERYBODY says one thing \"Who was that singing ?\"  \n",
              "0  Despite the fact that I have only played a sma...                                                                                                                                                                                                                                                                                                                                                                                                                                                                                           \n",
              "1  I bought this charger in Jul 2003 and it worke...                                                                                                                                                                                                                                                                                                                                                                                                                                                                                           \n",
              "2  Check out Maha Energy's website. Their Powerex...                                                                                                                                                                                                                                                                                                                                                                                                                                                                                           \n",
              "3  Reviewed quite a bit of the combo players and ...                                                                                                                                                                                                                                                                                                                                                                                                                                                                                           \n",
              "4  I also began having the incorrect disc problem...                                                                                                                                                                                                                                                                                                                                                                                                                                                                                           "
            ]
          },
          "execution_count": 5,
          "metadata": {},
          "output_type": "execute_result"
        }
      ],
      "source": [
        "test.head()"
      ]
    },
    {
      "cell_type": "code",
      "execution_count": 6,
      "metadata": {
        "id": "OfUs3_fxtyaC"
      },
      "outputs": [
        {
          "data": {
            "text/html": [
              "<div>\n",
              "<style scoped>\n",
              "    .dataframe tbody tr th:only-of-type {\n",
              "        vertical-align: middle;\n",
              "    }\n",
              "\n",
              "    .dataframe tbody tr th {\n",
              "        vertical-align: top;\n",
              "    }\n",
              "\n",
              "    .dataframe thead th {\n",
              "        text-align: right;\n",
              "    }\n",
              "</style>\n",
              "<table border=\"1\" class=\"dataframe\">\n",
              "  <thead>\n",
              "    <tr style=\"text-align: right;\">\n",
              "      <th></th>\n",
              "      <th>2</th>\n",
              "      <th>Stuning even for the non-gamer</th>\n",
              "      <th>This sound track was beautiful! It paints the senery in your mind so well I would recomend it even to people who hate vid. game music! I have played the game Chrono Cross but out of all of the games I have ever played it has the best music! It backs away from crude keyboarding and takes a fresher step with grate guitars and soulful orchestras. It would impress anyone who cares to listen! ^_^</th>\n",
              "    </tr>\n",
              "  </thead>\n",
              "  <tbody>\n",
              "    <tr>\n",
              "      <th>0</th>\n",
              "      <td>2</td>\n",
              "      <td>The best soundtrack ever to anything.</td>\n",
              "      <td>I'm reading a lot of reviews saying that this ...</td>\n",
              "    </tr>\n",
              "    <tr>\n",
              "      <th>1</th>\n",
              "      <td>2</td>\n",
              "      <td>Amazing!</td>\n",
              "      <td>This soundtrack is my favorite music of all ti...</td>\n",
              "    </tr>\n",
              "    <tr>\n",
              "      <th>2</th>\n",
              "      <td>2</td>\n",
              "      <td>Excellent Soundtrack</td>\n",
              "      <td>I truly like this soundtrack and I enjoy video...</td>\n",
              "    </tr>\n",
              "    <tr>\n",
              "      <th>3</th>\n",
              "      <td>2</td>\n",
              "      <td>Remember, Pull Your Jaw Off The Floor After He...</td>\n",
              "      <td>If you've played the game, you know how divine...</td>\n",
              "    </tr>\n",
              "    <tr>\n",
              "      <th>4</th>\n",
              "      <td>2</td>\n",
              "      <td>an absolute masterpiece</td>\n",
              "      <td>I am quite sure any of you actually taking the...</td>\n",
              "    </tr>\n",
              "  </tbody>\n",
              "</table>\n",
              "</div>"
            ],
            "text/plain": [
              "   2                     Stuning even for the non-gamer  \\\n",
              "0  2              The best soundtrack ever to anything.   \n",
              "1  2                                           Amazing!   \n",
              "2  2                               Excellent Soundtrack   \n",
              "3  2  Remember, Pull Your Jaw Off The Floor After He...   \n",
              "4  2                            an absolute masterpiece   \n",
              "\n",
              "  This sound track was beautiful! It paints the senery in your mind so well I would recomend it even to people who hate vid. game music! I have played the game Chrono Cross but out of all of the games I have ever played it has the best music! It backs away from crude keyboarding and takes a fresher step with grate guitars and soulful orchestras. It would impress anyone who cares to listen! ^_^  \n",
              "0  I'm reading a lot of reviews saying that this ...                                                                                                                                                                                                                                                                                                                                                          \n",
              "1  This soundtrack is my favorite music of all ti...                                                                                                                                                                                                                                                                                                                                                          \n",
              "2  I truly like this soundtrack and I enjoy video...                                                                                                                                                                                                                                                                                                                                                          \n",
              "3  If you've played the game, you know how divine...                                                                                                                                                                                                                                                                                                                                                          \n",
              "4  I am quite sure any of you actually taking the...                                                                                                                                                                                                                                                                                                                                                          "
            ]
          },
          "execution_count": 6,
          "metadata": {},
          "output_type": "execute_result"
        }
      ],
      "source": [
        "train.head()"
      ]
    },
    {
      "cell_type": "code",
      "execution_count": 7,
      "metadata": {
        "id": "tXZSL-5Kt1mk"
      },
      "outputs": [
        {
          "name": "stdout",
          "output_type": "stream",
          "text": [
            "<class 'pandas.core.frame.DataFrame'>\n",
            "RangeIndex: 399999 entries, 0 to 399998\n",
            "Data columns (total 3 columns):\n",
            " #   Column                                                                                                                                                                                                                                                                                                                                                                                                                                                                                                                                       Non-Null Count   Dtype \n",
            "---  ------                                                                                                                                                                                                                                                                                                                                                                                                                                                                                                                                       --------------   ----- \n",
            " 0   2                                                                                                                                                                                                                                                                                                                                                                                                                                                                                                                                            399999 non-null  int64 \n",
            " 1   Great CD                                                                                                                                                                                                                                                                                                                                                                                                                                                                                                                                     399975 non-null  object\n",
            " 2   My lovely Pat has one of the GREAT voices of her generation. I have listened to this CD for YEARS and I still LOVE IT. When I'm in a good mood it makes me feel better. A bad mood just evaporates like sugar in the rain. This CD just oozes LIFE. Vocals are jusat STUUNNING and lyrics just kill. One of life's hidden gems. This is a desert isle CD in my book. Why she never made it big is just beyond me. Everytime I play this, no matter black, white, young, old, male, female EVERYBODY says one thing \"Who was that singing ?\"  399999 non-null  object\n",
            "dtypes: int64(1), object(2)\n",
            "memory usage: 9.2+ MB\n"
          ]
        }
      ],
      "source": [
        "test.info()"
      ]
    },
    {
      "cell_type": "code",
      "execution_count": 8,
      "metadata": {
        "id": "4xcIEFb2t8rR"
      },
      "outputs": [
        {
          "name": "stdout",
          "output_type": "stream",
          "text": [
            "<class 'pandas.core.frame.DataFrame'>\n",
            "RangeIndex: 3599999 entries, 0 to 3599998\n",
            "Data columns (total 3 columns):\n",
            " #   Column                                                                                                                                                                                                                                                                                                                                                                                                      Dtype \n",
            "---  ------                                                                                                                                                                                                                                                                                                                                                                                                      ----- \n",
            " 0   2                                                                                                                                                                                                                                                                                                                                                                                                           int64 \n",
            " 1   Stuning even for the non-gamer                                                                                                                                                                                                                                                                                                                                                                              object\n",
            " 2   This sound track was beautiful! It paints the senery in your mind so well I would recomend it even to people who hate vid. game music! I have played the game Chrono Cross but out of all of the games I have ever played it has the best music! It backs away from crude keyboarding and takes a fresher step with grate guitars and soulful orchestras. It would impress anyone who cares to listen! ^_^  object\n",
            "dtypes: int64(1), object(2)\n",
            "memory usage: 82.4+ MB\n"
          ]
        }
      ],
      "source": [
        "train.info()"
      ]
    },
    {
      "cell_type": "markdown",
      "metadata": {},
      "source": [
        "Name of columns:"
      ]
    },
    {
      "cell_type": "code",
      "execution_count": 9,
      "metadata": {
        "id": "yFxRWv2mwKu3"
      },
      "outputs": [],
      "source": [
        "new_names = {1: \"label\", 2: \"title\", 3: \"text\"}\n",
        "\n",
        "for df in [test, train]:\n",
        "    columns = df.columns.tolist()\n",
        "\n",
        "    for idx, new_name in new_names.items():\n",
        "        \n",
        "        columns[idx - 1] = new_name\n",
        "\n",
        "    df.columns = columns\n",
        "    df['text'] = df['title'] + ' ' + df['text']\n",
        "    df.drop(columns=['title'], inplace=True)\n",
        "\n",
        "\n",
        "\n"
      ]
    },
    {
      "cell_type": "code",
      "execution_count": 10,
      "metadata": {
        "id": "fMKif4L_1SFe"
      },
      "outputs": [
        {
          "data": {
            "text/html": [
              "<div>\n",
              "<style scoped>\n",
              "    .dataframe tbody tr th:only-of-type {\n",
              "        vertical-align: middle;\n",
              "    }\n",
              "\n",
              "    .dataframe tbody tr th {\n",
              "        vertical-align: top;\n",
              "    }\n",
              "\n",
              "    .dataframe thead th {\n",
              "        text-align: right;\n",
              "    }\n",
              "</style>\n",
              "<table border=\"1\" class=\"dataframe\">\n",
              "  <thead>\n",
              "    <tr style=\"text-align: right;\">\n",
              "      <th></th>\n",
              "      <th>label</th>\n",
              "      <th>text</th>\n",
              "    </tr>\n",
              "  </thead>\n",
              "  <tbody>\n",
              "    <tr>\n",
              "      <th>0</th>\n",
              "      <td>2</td>\n",
              "      <td>One of the best game music soundtracks - for a...</td>\n",
              "    </tr>\n",
              "    <tr>\n",
              "      <th>1</th>\n",
              "      <td>1</td>\n",
              "      <td>Batteries died within a year ... I bought this...</td>\n",
              "    </tr>\n",
              "    <tr>\n",
              "      <th>2</th>\n",
              "      <td>2</td>\n",
              "      <td>works fine, but Maha Energy is better Check ou...</td>\n",
              "    </tr>\n",
              "    <tr>\n",
              "      <th>3</th>\n",
              "      <td>2</td>\n",
              "      <td>Great for the non-audiophile Reviewed quite a ...</td>\n",
              "    </tr>\n",
              "    <tr>\n",
              "      <th>4</th>\n",
              "      <td>1</td>\n",
              "      <td>DVD Player crapped out after one year I also b...</td>\n",
              "    </tr>\n",
              "    <tr>\n",
              "      <th>...</th>\n",
              "      <td>...</td>\n",
              "      <td>...</td>\n",
              "    </tr>\n",
              "    <tr>\n",
              "      <th>399994</th>\n",
              "      <td>1</td>\n",
              "      <td>Unbelievable- In a Bad Way We bought this Thom...</td>\n",
              "    </tr>\n",
              "    <tr>\n",
              "      <th>399995</th>\n",
              "      <td>1</td>\n",
              "      <td>Almost Great, Until it Broke... My son recieve...</td>\n",
              "    </tr>\n",
              "    <tr>\n",
              "      <th>399996</th>\n",
              "      <td>1</td>\n",
              "      <td>Disappointed !!! I bought this toy for my son ...</td>\n",
              "    </tr>\n",
              "    <tr>\n",
              "      <th>399997</th>\n",
              "      <td>2</td>\n",
              "      <td>Classic Jessica Mitford This is a compilation ...</td>\n",
              "    </tr>\n",
              "    <tr>\n",
              "      <th>399998</th>\n",
              "      <td>1</td>\n",
              "      <td>Comedy Scene, and Not Heard This DVD will be a...</td>\n",
              "    </tr>\n",
              "  </tbody>\n",
              "</table>\n",
              "<p>399999 rows × 2 columns</p>\n",
              "</div>"
            ],
            "text/plain": [
              "        label                                               text\n",
              "0           2  One of the best game music soundtracks - for a...\n",
              "1           1  Batteries died within a year ... I bought this...\n",
              "2           2  works fine, but Maha Energy is better Check ou...\n",
              "3           2  Great for the non-audiophile Reviewed quite a ...\n",
              "4           1  DVD Player crapped out after one year I also b...\n",
              "...       ...                                                ...\n",
              "399994      1  Unbelievable- In a Bad Way We bought this Thom...\n",
              "399995      1  Almost Great, Until it Broke... My son recieve...\n",
              "399996      1  Disappointed !!! I bought this toy for my son ...\n",
              "399997      2  Classic Jessica Mitford This is a compilation ...\n",
              "399998      1  Comedy Scene, and Not Heard This DVD will be a...\n",
              "\n",
              "[399999 rows x 2 columns]"
            ]
          },
          "execution_count": 10,
          "metadata": {},
          "output_type": "execute_result"
        }
      ],
      "source": [
        "test"
      ]
    },
    {
      "cell_type": "code",
      "execution_count": 11,
      "metadata": {
        "id": "foklT7zA2Zd1"
      },
      "outputs": [
        {
          "data": {
            "text/html": [
              "<div>\n",
              "<style scoped>\n",
              "    .dataframe tbody tr th:only-of-type {\n",
              "        vertical-align: middle;\n",
              "    }\n",
              "\n",
              "    .dataframe tbody tr th {\n",
              "        vertical-align: top;\n",
              "    }\n",
              "\n",
              "    .dataframe thead th {\n",
              "        text-align: right;\n",
              "    }\n",
              "</style>\n",
              "<table border=\"1\" class=\"dataframe\">\n",
              "  <thead>\n",
              "    <tr style=\"text-align: right;\">\n",
              "      <th></th>\n",
              "      <th>label</th>\n",
              "      <th>text</th>\n",
              "    </tr>\n",
              "  </thead>\n",
              "  <tbody>\n",
              "    <tr>\n",
              "      <th>0</th>\n",
              "      <td>2</td>\n",
              "      <td>The best soundtrack ever to anything. I'm read...</td>\n",
              "    </tr>\n",
              "    <tr>\n",
              "      <th>1</th>\n",
              "      <td>2</td>\n",
              "      <td>Amazing! This soundtrack is my favorite music ...</td>\n",
              "    </tr>\n",
              "    <tr>\n",
              "      <th>2</th>\n",
              "      <td>2</td>\n",
              "      <td>Excellent Soundtrack I truly like this soundtr...</td>\n",
              "    </tr>\n",
              "    <tr>\n",
              "      <th>3</th>\n",
              "      <td>2</td>\n",
              "      <td>Remember, Pull Your Jaw Off The Floor After He...</td>\n",
              "    </tr>\n",
              "    <tr>\n",
              "      <th>4</th>\n",
              "      <td>2</td>\n",
              "      <td>an absolute masterpiece I am quite sure any of...</td>\n",
              "    </tr>\n",
              "    <tr>\n",
              "      <th>...</th>\n",
              "      <td>...</td>\n",
              "      <td>...</td>\n",
              "    </tr>\n",
              "    <tr>\n",
              "      <th>3599994</th>\n",
              "      <td>1</td>\n",
              "      <td>Don't do it!! The high chair looks great when ...</td>\n",
              "    </tr>\n",
              "    <tr>\n",
              "      <th>3599995</th>\n",
              "      <td>1</td>\n",
              "      <td>Looks nice, low functionality I have used this...</td>\n",
              "    </tr>\n",
              "    <tr>\n",
              "      <th>3599996</th>\n",
              "      <td>1</td>\n",
              "      <td>compact, but hard to clean We have a small hou...</td>\n",
              "    </tr>\n",
              "    <tr>\n",
              "      <th>3599997</th>\n",
              "      <td>1</td>\n",
              "      <td>what is it saying? not sure what this book is ...</td>\n",
              "    </tr>\n",
              "    <tr>\n",
              "      <th>3599998</th>\n",
              "      <td>2</td>\n",
              "      <td>Makes My Blood Run Red-White-And-Blue I agree ...</td>\n",
              "    </tr>\n",
              "  </tbody>\n",
              "</table>\n",
              "<p>3599999 rows × 2 columns</p>\n",
              "</div>"
            ],
            "text/plain": [
              "         label                                               text\n",
              "0            2  The best soundtrack ever to anything. I'm read...\n",
              "1            2  Amazing! This soundtrack is my favorite music ...\n",
              "2            2  Excellent Soundtrack I truly like this soundtr...\n",
              "3            2  Remember, Pull Your Jaw Off The Floor After He...\n",
              "4            2  an absolute masterpiece I am quite sure any of...\n",
              "...        ...                                                ...\n",
              "3599994      1  Don't do it!! The high chair looks great when ...\n",
              "3599995      1  Looks nice, low functionality I have used this...\n",
              "3599996      1  compact, but hard to clean We have a small hou...\n",
              "3599997      1  what is it saying? not sure what this book is ...\n",
              "3599998      2  Makes My Blood Run Red-White-And-Blue I agree ...\n",
              "\n",
              "[3599999 rows x 2 columns]"
            ]
          },
          "execution_count": 11,
          "metadata": {},
          "output_type": "execute_result"
        }
      ],
      "source": [
        "train"
      ]
    },
    {
      "cell_type": "code",
      "execution_count": 12,
      "metadata": {
        "id": "7gXAZAeD2xn6"
      },
      "outputs": [
        {
          "name": "stdout",
          "output_type": "stream",
          "text": [
            "DataFrame 0:\n",
            "No empty space in label\n",
            "No empty space in text\n",
            "DataFrame 1:\n",
            "No empty space in label\n",
            "No empty space in text\n"
          ]
        }
      ],
      "source": [
        "dfs = [test, train]\n",
        "\n",
        "for i, df in enumerate(dfs):\n",
        "    print(f\"DataFrame {i}:\")\n",
        "\n",
        "    for column in df.columns:\n",
        "        if (df[column] == ' ').any():\n",
        "            print('Empty Space in', column)\n",
        "        else:\n",
        "            print('No empty space in', column)\n",
        "\n",
        "\n"
      ]
    },
    {
      "cell_type": "markdown",
      "metadata": {},
      "source": [
        "Dropping null values"
      ]
    },
    {
      "cell_type": "code",
      "execution_count": 13,
      "metadata": {
        "id": "sUopHnaGBdUy"
      },
      "outputs": [],
      "source": [
        "test.dropna(inplace = True)\n",
        "train.dropna(inplace = True)"
      ]
    },
    {
      "cell_type": "code",
      "execution_count": 14,
      "metadata": {
        "id": "uYDP-1X923s_"
      },
      "outputs": [
        {
          "data": {
            "text/plain": [
              "label\n",
              "2    50.000444\n",
              "1    49.999556\n",
              "Name: count, dtype: float64"
            ]
          },
          "execution_count": 14,
          "metadata": {},
          "output_type": "execute_result"
        }
      ],
      "source": [
        "train['label'].value_counts()*100/len(train)"
      ]
    },
    {
      "cell_type": "code",
      "execution_count": 15,
      "metadata": {
        "id": "ezRk_akS-GzV"
      },
      "outputs": [
        {
          "name": "stdout",
          "output_type": "stream",
          "text": [
            "<class 'pandas.core.frame.DataFrame'>\n",
            "Index: 3599792 entries, 0 to 3599998\n",
            "Data columns (total 2 columns):\n",
            " #   Column  Dtype \n",
            "---  ------  ----- \n",
            " 0   label   int64 \n",
            " 1   text    object\n",
            "dtypes: int64(1), object(1)\n",
            "memory usage: 82.4+ MB\n"
          ]
        }
      ],
      "source": [
        "train.info()"
      ]
    },
    {
      "cell_type": "markdown",
      "metadata": {
        "id": "5a-gV1UZ9zxm"
      },
      "source": [
        "Split the data into train & test sets"
      ]
    },
    {
      "cell_type": "markdown",
      "metadata": {},
      "source": [
        "So, our dataframe of train is balanced. No issues to determine train and test."
      ]
    },
    {
      "cell_type": "code",
      "execution_count": 16,
      "metadata": {
        "id": "Nz0ES7d29gX7"
      },
      "outputs": [],
      "source": [
        "\n",
        "\n",
        "X_train = train.drop(columns = ['label'])\n",
        "y_train = train['label']\n",
        "X_test = test.drop(columns = ['label'])\n",
        "y_test = test['label']"
      ]
    },
    {
      "cell_type": "code",
      "execution_count": 17,
      "metadata": {
        "id": "18hy7Sb4-u2y"
      },
      "outputs": [
        {
          "name": "stdout",
          "output_type": "stream",
          "text": [
            "Tamanho de X_train: 3599792\n",
            "Tamanho de y_train: 3599792\n"
          ]
        }
      ],
      "source": [
        "print(f\"Tamanho de X_train: {len(X_train)}\")\n",
        "print(f\"Tamanho de y_train: {len(y_train)}\")\n"
      ]
    },
    {
      "cell_type": "code",
      "execution_count": 18,
      "metadata": {
        "id": "zvdnCa8C-6CG"
      },
      "outputs": [
        {
          "name": "stdout",
          "output_type": "stream",
          "text": [
            "<class 'pandas.core.frame.DataFrame'>\n",
            "<class 'pandas.core.series.Series'>\n"
          ]
        }
      ],
      "source": [
        "print(type(X_train))\n",
        "print(type(y_train))\n"
      ]
    },
    {
      "cell_type": "code",
      "execution_count": 19,
      "metadata": {
        "id": "odbEibkE89tP"
      },
      "outputs": [],
      "source": [
        "X_train = X_train.squeeze()\n",
        "X_test = X_test.squeeze()\n",
        "\n"
      ]
    },
    {
      "cell_type": "markdown",
      "metadata": {},
      "source": [
        "So, I just used Logistic Regression, Linear SVC, Multinominal methods for classification. Anyway, I left in the comments other methods, so, it's your chooice. The function bellow will classify the best model by F1-Score"
      ]
    },
    {
      "cell_type": "code",
      "execution_count": 20,
      "metadata": {
        "id": "-uaUow8KmZQ-"
      },
      "outputs": [],
      "source": [
        "\n",
        "\n",
        "\n",
        "\n",
        "def pipelines(X_train, y_train, X_test, y_test):\n",
        "    \n",
        "    vectorizer = TfidfVectorizer()\n",
        "    X_train_tfidf = vectorizer.fit_transform(X_train)\n",
        "    X_test_tfidf = vectorizer.transform(X_test)\n",
        "\n",
        "    dict_methods = {\n",
        "            'LogisticRegression': LogisticRegression(),  \n",
        "            'LinearSVC': LinearSVC(),  \n",
        "            #'CatBoost': CatBoostClassifier(),  \n",
        "            'MultinomialNB': MultinomialNB(),\n",
        "            #'DecisionTreeClassifier': DecisionTreeClassifier(),\n",
        "            #'RandomForestClassifier': RandomForestClassifier()\n",
        "        }\n",
        "\n",
        "\n",
        "    results = []\n",
        "\n",
        "    for name, method in dict_methods.items():\n",
        "        \n",
        "        print(name)\n",
        "        method.fit(X_train_tfidf, y_train)\n",
        "        predictions = method.predict(X_test_tfidf)\n",
        "        f1_micro = f1_score(y_test, predictions, average='micro')\n",
        "        accuracy = accuracy_score(y_test, predictions)\n",
        "        \n",
        "        \n",
        "\n",
        "        print(f1_micro)\n",
        "\n",
        "        results.append({\n",
        "            'Method': name,\n",
        "            'F1 Micro': f1_micro,\n",
        "            \n",
        "            'Accuracy': accuracy\n",
        "        })\n",
        "\n",
        "    df = pd.DataFrame(results)\n",
        "    return df.sort_values(by='F1 Micro', ascending=False)\n",
        "\n",
        "\n"
      ]
    },
    {
      "cell_type": "code",
      "execution_count": 21,
      "metadata": {
        "id": "5mPjzX8m7hKx"
      },
      "outputs": [
        {
          "name": "stdout",
          "output_type": "stream",
          "text": [
            "LogisticRegression\n",
            "0.9100868804300268\n",
            "LinearSVC\n",
            "0.910534408400525\n",
            "MultinomialNB\n",
            "0.8469654353397087\n"
          ]
        },
        {
          "data": {
            "text/html": [
              "<div>\n",
              "<style scoped>\n",
              "    .dataframe tbody tr th:only-of-type {\n",
              "        vertical-align: middle;\n",
              "    }\n",
              "\n",
              "    .dataframe tbody tr th {\n",
              "        vertical-align: top;\n",
              "    }\n",
              "\n",
              "    .dataframe thead th {\n",
              "        text-align: right;\n",
              "    }\n",
              "</style>\n",
              "<table border=\"1\" class=\"dataframe\">\n",
              "  <thead>\n",
              "    <tr style=\"text-align: right;\">\n",
              "      <th></th>\n",
              "      <th>Method</th>\n",
              "      <th>F1 Micro</th>\n",
              "      <th>Accuracy</th>\n",
              "    </tr>\n",
              "  </thead>\n",
              "  <tbody>\n",
              "    <tr>\n",
              "      <th>1</th>\n",
              "      <td>LinearSVC</td>\n",
              "      <td>0.910534</td>\n",
              "      <td>0.910534</td>\n",
              "    </tr>\n",
              "    <tr>\n",
              "      <th>0</th>\n",
              "      <td>LogisticRegression</td>\n",
              "      <td>0.910087</td>\n",
              "      <td>0.910087</td>\n",
              "    </tr>\n",
              "    <tr>\n",
              "      <th>2</th>\n",
              "      <td>MultinomialNB</td>\n",
              "      <td>0.846965</td>\n",
              "      <td>0.846965</td>\n",
              "    </tr>\n",
              "  </tbody>\n",
              "</table>\n",
              "</div>"
            ],
            "text/plain": [
              "               Method  F1 Micro  Accuracy\n",
              "1           LinearSVC  0.910534  0.910534\n",
              "0  LogisticRegression  0.910087  0.910087\n",
              "2       MultinomialNB  0.846965  0.846965"
            ]
          },
          "execution_count": 21,
          "metadata": {},
          "output_type": "execute_result"
        }
      ],
      "source": [
        "pipelines(X_train, y_train, X_test, y_test)"
      ]
    },
    {
      "cell_type": "markdown",
      "metadata": {},
      "source": [
        "Linear SVC is more accurate and precise than others. We have more options of methods, but it takes a long time, it could be innecifient by this point of view. Anyway, we used default vectorization and SVC. So, fine tunning to improve."
      ]
    },
    {
      "cell_type": "markdown",
      "metadata": {},
      "source": [
        "First Fine-Tunning, in vectorization"
      ]
    },
    {
      "cell_type": "code",
      "execution_count": 22,
      "metadata": {},
      "outputs": [],
      "source": [
        "import nltk\n",
        "from nltk.corpus import stopwords\n",
        "stop_words = stopwords.words('english')\n"
      ]
    },
    {
      "cell_type": "code",
      "execution_count": 23,
      "metadata": {},
      "outputs": [],
      "source": [
        "clf = LinearSVC()"
      ]
    },
    {
      "cell_type": "code",
      "execution_count": 24,
      "metadata": {},
      "outputs": [],
      "source": [
        "\n",
        "\n",
        "\n",
        "tfidf =TfidfVectorizer(max_features=40000, \n",
        "                                               ngram_range=(1, 2), #bigrams \n",
        "                                               stop_words=stop_words, # Stop words are common words removed in NLP as they add little meaning.\n",
        "                                               sublinear_tf=True,\n",
        "                                               max_df=0.9, #erases  90% less frequent words\n",
        "                                               min_df=100 # minimum frequency\n",
        "                                               )\n",
        "\n",
        "\n"
      ]
    },
    {
      "cell_type": "code",
      "execution_count": 25,
      "metadata": {},
      "outputs": [],
      "source": [
        "def text_clf(clf, tfidf, X_train, y_train):\n",
        "    text_clf = Pipeline([\n",
        "        ('tfidf', tfidf),\n",
        "        ('clf', clf)\n",
        "    ])\n",
        "    text_clf.fit(X_train, y_train)  \n",
        "    return text_clf\n",
        "\n",
        "\n",
        "pipeline_2 = text_clf(clf, tfidf, X_train, y_train)  # Já vem treinado\n"
      ]
    },
    {
      "cell_type": "code",
      "execution_count": 26,
      "metadata": {},
      "outputs": [],
      "source": [
        "predictions = pipeline_2.predict(X_test)  # Predição direta"
      ]
    },
    {
      "cell_type": "code",
      "execution_count": 27,
      "metadata": {},
      "outputs": [
        {
          "name": "stdout",
          "output_type": "stream",
          "text": [
            "              precision    recall  f1-score   support\n",
            "\n",
            "           1       0.92      0.92      0.92    199984\n",
            "           2       0.92      0.92      0.92    199991\n",
            "\n",
            "    accuracy                           0.92    399975\n",
            "   macro avg       0.92      0.92      0.92    399975\n",
            "weighted avg       0.92      0.92      0.92    399975\n",
            "\n"
          ]
        }
      ],
      "source": [
        "print(metrics.classification_report(y_test,predictions))\n"
      ]
    },
    {
      "cell_type": "markdown",
      "metadata": {},
      "source": [
        "Ok, the vectorization has improved accuracy and f1-score and became more efficient. Next fine-tunning: Linear SVC."
      ]
    },
    {
      "cell_type": "markdown",
      "metadata": {},
      "source": [
        "I could look for the best parameters by gridsearch, but for that analysis, I'd be very heavy for a simple notebook. So, intelligent inference would help us."
      ]
    },
    {
      "cell_type": "code",
      "execution_count": 28,
      "metadata": {},
      "outputs": [],
      "source": [
        "clf = LinearSVC(C=10, # I could use less than 1, but I want to pursuit better accuracy\n",
        "                 dual=False, # a lot of data and few features\n",
        "                 max_iter = 40000,#more iterations\n",
        "                tol=1e-6 # for more precision, lower tolerance\n",
        "                                  )\n"
      ]
    },
    {
      "cell_type": "code",
      "execution_count": 29,
      "metadata": {},
      "outputs": [],
      "source": [
        "pipeline_2 = text_clf(clf, tfidf, X_train, y_train)"
      ]
    },
    {
      "cell_type": "code",
      "execution_count": 30,
      "metadata": {},
      "outputs": [],
      "source": [
        "predictions = pipeline_2.predict(X_test) "
      ]
    },
    {
      "cell_type": "code",
      "execution_count": 31,
      "metadata": {},
      "outputs": [
        {
          "name": "stdout",
          "output_type": "stream",
          "text": [
            "              precision    recall  f1-score   support\n",
            "\n",
            "           1       0.92      0.92      0.92    199984\n",
            "           2       0.92      0.92      0.92    199991\n",
            "\n",
            "    accuracy                           0.92    399975\n",
            "   macro avg       0.92      0.92      0.92    399975\n",
            "weighted avg       0.92      0.92      0.92    399975\n",
            "\n"
          ]
        }
      ],
      "source": [
        "print(metrics.classification_report(y_test,predictions))\n"
      ]
    },
    {
      "cell_type": "markdown",
      "metadata": {},
      "source": [
        "Well, by hiperparameters wasn't the best one. Sometimes, we depend on data to do that, so, it's better to use the original linear_svc with few modifications, as dual = False. Anyway, this analysis could be improved by using Deep Learning Techniques or another Machine Learning methods. Another hypotesis, maybe, the column Title could be enogh to hold better accuracies and f1-scores. "
      ]
    },
    {
      "cell_type": "markdown",
      "metadata": {},
      "source": [
        "Examples of functionality:"
      ]
    },
    {
      "cell_type": "code",
      "execution_count": 32,
      "metadata": {},
      "outputs": [],
      "source": [
        "clf = LinearSVC( \n",
        "                 dual=False # a lot of data and few features\n",
        "                  )"
      ]
    },
    {
      "cell_type": "code",
      "execution_count": 33,
      "metadata": {},
      "outputs": [],
      "source": [
        "pipeline_2 = text_clf(clf, tfidf, X_train, y_train)"
      ]
    },
    {
      "cell_type": "code",
      "execution_count": 34,
      "metadata": {},
      "outputs": [],
      "source": [
        "\n",
        "data = {\n",
        "    \"Title\": [\n",
        "        \"The product arrived super fast and works perfectly! I ordered it on Monday, and by Wednesday it was already at my door. The quality is top-notch, and I couldn’t be happier with how well it performs.\",\n",
        "        \"Terrible experience, the item was damaged on delivery. When I opened the box, the product was cracked, and it’s clear the shipping company didn’t handle it with care. Really frustrating after waiting a week.\",\n",
        "        \"Amazing quality for such a low price, I'm thrilled! I wasn’t expecting much given the discount, but this exceeded all my hopes—it’s durable, stylish, and worth every penny I spent.\",\n",
        "        \"Shipping took forever, really disappointing. I waited almost three weeks for my order, and there were no updates until the last day. It ruined the excitement I had for this purchase.\",\n",
        "        \"Customer service was so helpful with my order. I had an issue with the payment, but their team responded quickly, fixed it in no time, and even threw in a small discount as an apology—great experience!\",\n",
        "        \"The package got lost, worst purchase ever. I tracked it for days, and suddenly the status just stopped updating. No one could tell me where it went, and I ended up with nothing after paying full price.\",\n",
        "        \"Great deal, I'd definitely buy again! The price was unbeatable, and the item arrived in perfect condition within two days. It’s exactly what I needed, and I’m already planning my next order.\",\n",
        "        \"Poor packaging, everything was broken. The box was flimsy, and by the time it got to me, the contents were shattered. It’s a shame because the product itself looked promising online.\",\n",
        "        \"Fast delivery and the item exceeded my expectations. I got it in just 48 hours, and it’s even better than the pictures—super functional and feels premium. Couldn’t ask for more!\",\n",
        "        \"Overpriced and low quality, I regret this purchase. I paid way too much for something that feels cheap and stopped working after a few uses. Should’ve read the reviews more carefully.\",\n",
        "        \"Fantastic purchase, I’m so impressed! The item arrived early, beautifully packaged, and it works even better than advertised—what a pleasant surprise after shopping online.\",\n",
        "        \"Complete disaster, the wrong item was sent. I ordered a specific model, but they shipped something totally different, and now I’m stuck dealing with returns. Such a waste of time.\",\n",
        "        \"Best online shopping experience yet! The website was easy to use, shipping was lightning-fast, and the product quality is outstanding—I’ll be recommending this to everyone.\",\n",
        "        \"Horrible delays and no communication. My order sat in ‘processing’ for two weeks with no explanation, and when it finally arrived, it was missing parts. Never again.\",\n",
        "        \"Super satisfied with this buy! It arrived ahead of schedule, and the attention to detail in the design is incredible—definitely feels like I got more than I paid for.\",\n",
        "        \"Disappointing purchase, it broke on day one. I was excited to try it out, but it fell apart almost immediately, and the return process is a nightmare to deal with.\",\n",
        "        \"Quick shipping and a flawless product! I ordered it late at night, and it was at my doorstep by the next afternoon—works like a charm and looks great too.\",\n",
        "        \"Awful quality, not worth the hype. The reviews made it sound amazing, but it arrived scratched and barely functional—should’ve saved my money for something else.\",\n",
        "        \"Really happy with this order! The item was well-priced, shipped promptly, and came with a little thank-you note that made the experience feel personal and special.\",\n",
        "        \"Total letdown, delivery was a mess. The package was left in the rain despite my instructions, and the contents were soaked and ruined—terrible service all around.\"\n",
        "    ],\n",
        "    \"Sentiment\": [2, 1, 2, 1, 2, 1, 2, 1, 2, 1, 2, 1, 2, 1, 2, 1, 2, 1, 2, 1]\n",
        "}\n",
        "\n",
        "df_test = pd.DataFrame(data)\n",
        "\n"
      ]
    },
    {
      "cell_type": "code",
      "execution_count": 35,
      "metadata": {},
      "outputs": [
        {
          "data": {
            "text/html": [
              "<div>\n",
              "<style scoped>\n",
              "    .dataframe tbody tr th:only-of-type {\n",
              "        vertical-align: middle;\n",
              "    }\n",
              "\n",
              "    .dataframe tbody tr th {\n",
              "        vertical-align: top;\n",
              "    }\n",
              "\n",
              "    .dataframe thead th {\n",
              "        text-align: right;\n",
              "    }\n",
              "</style>\n",
              "<table border=\"1\" class=\"dataframe\">\n",
              "  <thead>\n",
              "    <tr style=\"text-align: right;\">\n",
              "      <th></th>\n",
              "      <th>Title</th>\n",
              "      <th>Sentiment</th>\n",
              "    </tr>\n",
              "  </thead>\n",
              "  <tbody>\n",
              "    <tr>\n",
              "      <th>0</th>\n",
              "      <td>The product arrived super fast and works perfe...</td>\n",
              "      <td>2</td>\n",
              "    </tr>\n",
              "    <tr>\n",
              "      <th>1</th>\n",
              "      <td>Terrible experience, the item was damaged on d...</td>\n",
              "      <td>1</td>\n",
              "    </tr>\n",
              "    <tr>\n",
              "      <th>2</th>\n",
              "      <td>Amazing quality for such a low price, I'm thri...</td>\n",
              "      <td>2</td>\n",
              "    </tr>\n",
              "    <tr>\n",
              "      <th>3</th>\n",
              "      <td>Shipping took forever, really disappointing. I...</td>\n",
              "      <td>1</td>\n",
              "    </tr>\n",
              "    <tr>\n",
              "      <th>4</th>\n",
              "      <td>Customer service was so helpful with my order....</td>\n",
              "      <td>2</td>\n",
              "    </tr>\n",
              "    <tr>\n",
              "      <th>5</th>\n",
              "      <td>The package got lost, worst purchase ever. I t...</td>\n",
              "      <td>1</td>\n",
              "    </tr>\n",
              "    <tr>\n",
              "      <th>6</th>\n",
              "      <td>Great deal, I'd definitely buy again! The pric...</td>\n",
              "      <td>2</td>\n",
              "    </tr>\n",
              "    <tr>\n",
              "      <th>7</th>\n",
              "      <td>Poor packaging, everything was broken. The box...</td>\n",
              "      <td>1</td>\n",
              "    </tr>\n",
              "    <tr>\n",
              "      <th>8</th>\n",
              "      <td>Fast delivery and the item exceeded my expecta...</td>\n",
              "      <td>2</td>\n",
              "    </tr>\n",
              "    <tr>\n",
              "      <th>9</th>\n",
              "      <td>Overpriced and low quality, I regret this purc...</td>\n",
              "      <td>1</td>\n",
              "    </tr>\n",
              "    <tr>\n",
              "      <th>10</th>\n",
              "      <td>Fantastic purchase, I’m so impressed! The item...</td>\n",
              "      <td>2</td>\n",
              "    </tr>\n",
              "    <tr>\n",
              "      <th>11</th>\n",
              "      <td>Complete disaster, the wrong item was sent. I ...</td>\n",
              "      <td>1</td>\n",
              "    </tr>\n",
              "    <tr>\n",
              "      <th>12</th>\n",
              "      <td>Best online shopping experience yet! The websi...</td>\n",
              "      <td>2</td>\n",
              "    </tr>\n",
              "    <tr>\n",
              "      <th>13</th>\n",
              "      <td>Horrible delays and no communication. My order...</td>\n",
              "      <td>1</td>\n",
              "    </tr>\n",
              "    <tr>\n",
              "      <th>14</th>\n",
              "      <td>Super satisfied with this buy! It arrived ahea...</td>\n",
              "      <td>2</td>\n",
              "    </tr>\n",
              "    <tr>\n",
              "      <th>15</th>\n",
              "      <td>Disappointing purchase, it broke on day one. I...</td>\n",
              "      <td>1</td>\n",
              "    </tr>\n",
              "    <tr>\n",
              "      <th>16</th>\n",
              "      <td>Quick shipping and a flawless product! I order...</td>\n",
              "      <td>2</td>\n",
              "    </tr>\n",
              "    <tr>\n",
              "      <th>17</th>\n",
              "      <td>Awful quality, not worth the hype. The reviews...</td>\n",
              "      <td>1</td>\n",
              "    </tr>\n",
              "    <tr>\n",
              "      <th>18</th>\n",
              "      <td>Really happy with this order! The item was wel...</td>\n",
              "      <td>2</td>\n",
              "    </tr>\n",
              "    <tr>\n",
              "      <th>19</th>\n",
              "      <td>Total letdown, delivery was a mess. The packag...</td>\n",
              "      <td>1</td>\n",
              "    </tr>\n",
              "  </tbody>\n",
              "</table>\n",
              "</div>"
            ],
            "text/plain": [
              "                                                Title  Sentiment\n",
              "0   The product arrived super fast and works perfe...          2\n",
              "1   Terrible experience, the item was damaged on d...          1\n",
              "2   Amazing quality for such a low price, I'm thri...          2\n",
              "3   Shipping took forever, really disappointing. I...          1\n",
              "4   Customer service was so helpful with my order....          2\n",
              "5   The package got lost, worst purchase ever. I t...          1\n",
              "6   Great deal, I'd definitely buy again! The pric...          2\n",
              "7   Poor packaging, everything was broken. The box...          1\n",
              "8   Fast delivery and the item exceeded my expecta...          2\n",
              "9   Overpriced and low quality, I regret this purc...          1\n",
              "10  Fantastic purchase, I’m so impressed! The item...          2\n",
              "11  Complete disaster, the wrong item was sent. I ...          1\n",
              "12  Best online shopping experience yet! The websi...          2\n",
              "13  Horrible delays and no communication. My order...          1\n",
              "14  Super satisfied with this buy! It arrived ahea...          2\n",
              "15  Disappointing purchase, it broke on day one. I...          1\n",
              "16  Quick shipping and a flawless product! I order...          2\n",
              "17  Awful quality, not worth the hype. The reviews...          1\n",
              "18  Really happy with this order! The item was wel...          2\n",
              "19  Total letdown, delivery was a mess. The packag...          1"
            ]
          },
          "execution_count": 35,
          "metadata": {},
          "output_type": "execute_result"
        }
      ],
      "source": [
        "df_test"
      ]
    },
    {
      "cell_type": "code",
      "execution_count": 36,
      "metadata": {},
      "outputs": [],
      "source": [
        "df_test[\"Predicted_Sentiment\"] = pipeline_2.predict(df_test[\"Title\"])"
      ]
    },
    {
      "cell_type": "code",
      "execution_count": 37,
      "metadata": {},
      "outputs": [
        {
          "data": {
            "text/html": [
              "<div>\n",
              "<style scoped>\n",
              "    .dataframe tbody tr th:only-of-type {\n",
              "        vertical-align: middle;\n",
              "    }\n",
              "\n",
              "    .dataframe tbody tr th {\n",
              "        vertical-align: top;\n",
              "    }\n",
              "\n",
              "    .dataframe thead th {\n",
              "        text-align: right;\n",
              "    }\n",
              "</style>\n",
              "<table border=\"1\" class=\"dataframe\">\n",
              "  <thead>\n",
              "    <tr style=\"text-align: right;\">\n",
              "      <th></th>\n",
              "      <th>Title</th>\n",
              "      <th>Sentiment</th>\n",
              "      <th>Predicted_Sentiment</th>\n",
              "    </tr>\n",
              "  </thead>\n",
              "  <tbody>\n",
              "    <tr>\n",
              "      <th>0</th>\n",
              "      <td>The product arrived super fast and works perfe...</td>\n",
              "      <td>2</td>\n",
              "      <td>2</td>\n",
              "    </tr>\n",
              "    <tr>\n",
              "      <th>1</th>\n",
              "      <td>Terrible experience, the item was damaged on d...</td>\n",
              "      <td>1</td>\n",
              "      <td>1</td>\n",
              "    </tr>\n",
              "    <tr>\n",
              "      <th>2</th>\n",
              "      <td>Amazing quality for such a low price, I'm thri...</td>\n",
              "      <td>2</td>\n",
              "      <td>2</td>\n",
              "    </tr>\n",
              "    <tr>\n",
              "      <th>3</th>\n",
              "      <td>Shipping took forever, really disappointing. I...</td>\n",
              "      <td>1</td>\n",
              "      <td>1</td>\n",
              "    </tr>\n",
              "    <tr>\n",
              "      <th>4</th>\n",
              "      <td>Customer service was so helpful with my order....</td>\n",
              "      <td>2</td>\n",
              "      <td>2</td>\n",
              "    </tr>\n",
              "    <tr>\n",
              "      <th>5</th>\n",
              "      <td>The package got lost, worst purchase ever. I t...</td>\n",
              "      <td>1</td>\n",
              "      <td>1</td>\n",
              "    </tr>\n",
              "    <tr>\n",
              "      <th>6</th>\n",
              "      <td>Great deal, I'd definitely buy again! The pric...</td>\n",
              "      <td>2</td>\n",
              "      <td>2</td>\n",
              "    </tr>\n",
              "    <tr>\n",
              "      <th>7</th>\n",
              "      <td>Poor packaging, everything was broken. The box...</td>\n",
              "      <td>1</td>\n",
              "      <td>1</td>\n",
              "    </tr>\n",
              "    <tr>\n",
              "      <th>8</th>\n",
              "      <td>Fast delivery and the item exceeded my expecta...</td>\n",
              "      <td>2</td>\n",
              "      <td>2</td>\n",
              "    </tr>\n",
              "    <tr>\n",
              "      <th>9</th>\n",
              "      <td>Overpriced and low quality, I regret this purc...</td>\n",
              "      <td>1</td>\n",
              "      <td>1</td>\n",
              "    </tr>\n",
              "    <tr>\n",
              "      <th>10</th>\n",
              "      <td>Fantastic purchase, I’m so impressed! The item...</td>\n",
              "      <td>2</td>\n",
              "      <td>2</td>\n",
              "    </tr>\n",
              "    <tr>\n",
              "      <th>11</th>\n",
              "      <td>Complete disaster, the wrong item was sent. I ...</td>\n",
              "      <td>1</td>\n",
              "      <td>1</td>\n",
              "    </tr>\n",
              "    <tr>\n",
              "      <th>12</th>\n",
              "      <td>Best online shopping experience yet! The websi...</td>\n",
              "      <td>2</td>\n",
              "      <td>2</td>\n",
              "    </tr>\n",
              "    <tr>\n",
              "      <th>13</th>\n",
              "      <td>Horrible delays and no communication. My order...</td>\n",
              "      <td>1</td>\n",
              "      <td>1</td>\n",
              "    </tr>\n",
              "    <tr>\n",
              "      <th>14</th>\n",
              "      <td>Super satisfied with this buy! It arrived ahea...</td>\n",
              "      <td>2</td>\n",
              "      <td>2</td>\n",
              "    </tr>\n",
              "    <tr>\n",
              "      <th>15</th>\n",
              "      <td>Disappointing purchase, it broke on day one. I...</td>\n",
              "      <td>1</td>\n",
              "      <td>1</td>\n",
              "    </tr>\n",
              "    <tr>\n",
              "      <th>16</th>\n",
              "      <td>Quick shipping and a flawless product! I order...</td>\n",
              "      <td>2</td>\n",
              "      <td>2</td>\n",
              "    </tr>\n",
              "    <tr>\n",
              "      <th>17</th>\n",
              "      <td>Awful quality, not worth the hype. The reviews...</td>\n",
              "      <td>1</td>\n",
              "      <td>1</td>\n",
              "    </tr>\n",
              "    <tr>\n",
              "      <th>18</th>\n",
              "      <td>Really happy with this order! The item was wel...</td>\n",
              "      <td>2</td>\n",
              "      <td>2</td>\n",
              "    </tr>\n",
              "    <tr>\n",
              "      <th>19</th>\n",
              "      <td>Total letdown, delivery was a mess. The packag...</td>\n",
              "      <td>1</td>\n",
              "      <td>1</td>\n",
              "    </tr>\n",
              "  </tbody>\n",
              "</table>\n",
              "</div>"
            ],
            "text/plain": [
              "                                                Title  Sentiment  \\\n",
              "0   The product arrived super fast and works perfe...          2   \n",
              "1   Terrible experience, the item was damaged on d...          1   \n",
              "2   Amazing quality for such a low price, I'm thri...          2   \n",
              "3   Shipping took forever, really disappointing. I...          1   \n",
              "4   Customer service was so helpful with my order....          2   \n",
              "5   The package got lost, worst purchase ever. I t...          1   \n",
              "6   Great deal, I'd definitely buy again! The pric...          2   \n",
              "7   Poor packaging, everything was broken. The box...          1   \n",
              "8   Fast delivery and the item exceeded my expecta...          2   \n",
              "9   Overpriced and low quality, I regret this purc...          1   \n",
              "10  Fantastic purchase, I’m so impressed! The item...          2   \n",
              "11  Complete disaster, the wrong item was sent. I ...          1   \n",
              "12  Best online shopping experience yet! The websi...          2   \n",
              "13  Horrible delays and no communication. My order...          1   \n",
              "14  Super satisfied with this buy! It arrived ahea...          2   \n",
              "15  Disappointing purchase, it broke on day one. I...          1   \n",
              "16  Quick shipping and a flawless product! I order...          2   \n",
              "17  Awful quality, not worth the hype. The reviews...          1   \n",
              "18  Really happy with this order! The item was wel...          2   \n",
              "19  Total letdown, delivery was a mess. The packag...          1   \n",
              "\n",
              "    Predicted_Sentiment  \n",
              "0                     2  \n",
              "1                     1  \n",
              "2                     2  \n",
              "3                     1  \n",
              "4                     2  \n",
              "5                     1  \n",
              "6                     2  \n",
              "7                     1  \n",
              "8                     2  \n",
              "9                     1  \n",
              "10                    2  \n",
              "11                    1  \n",
              "12                    2  \n",
              "13                    1  \n",
              "14                    2  \n",
              "15                    1  \n",
              "16                    2  \n",
              "17                    1  \n",
              "18                    2  \n",
              "19                    1  "
            ]
          },
          "execution_count": 37,
          "metadata": {},
          "output_type": "execute_result"
        }
      ],
      "source": [
        "df_test"
      ]
    },
    {
      "cell_type": "code",
      "execution_count": 38,
      "metadata": {},
      "outputs": [],
      "source": [
        "df_test['Correct'] = (df_test['Sentiment'] == df_test['Predicted_Sentiment']).astype(int)"
      ]
    },
    {
      "cell_type": "code",
      "execution_count": 39,
      "metadata": {},
      "outputs": [],
      "source": [
        "correct = 100 * df_test['Correct'].mean()"
      ]
    },
    {
      "cell_type": "code",
      "execution_count": 40,
      "metadata": {},
      "outputs": [
        {
          "name": "stdout",
          "output_type": "stream",
          "text": [
            "Correct rate: 100.0 %\n"
          ]
        }
      ],
      "source": [
        "print(f'Correct rate: {correct} %')"
      ]
    },
    {
      "cell_type": "markdown",
      "metadata": {},
      "source": [
        "In my test, it works well with those examples. You can try by yourself others."
      ]
    },
    {
      "cell_type": "markdown",
      "metadata": {},
      "source": [
        "Second part: Sentiment analysis by NTKL"
      ]
    },
    {
      "cell_type": "code",
      "execution_count": 41,
      "metadata": {},
      "outputs": [],
      "source": [
        "## VADER (Valence Aware Dictionary and sEntiment Reasoner)"
      ]
    },
    {
      "cell_type": "code",
      "execution_count": 42,
      "metadata": {},
      "outputs": [
        {
          "data": {
            "text/html": [
              "<div>\n",
              "<style scoped>\n",
              "    .dataframe tbody tr th:only-of-type {\n",
              "        vertical-align: middle;\n",
              "    }\n",
              "\n",
              "    .dataframe tbody tr th {\n",
              "        vertical-align: top;\n",
              "    }\n",
              "\n",
              "    .dataframe thead th {\n",
              "        text-align: right;\n",
              "    }\n",
              "</style>\n",
              "<table border=\"1\" class=\"dataframe\">\n",
              "  <thead>\n",
              "    <tr style=\"text-align: right;\">\n",
              "      <th></th>\n",
              "      <th>label</th>\n",
              "      <th>text</th>\n",
              "    </tr>\n",
              "  </thead>\n",
              "  <tbody>\n",
              "    <tr>\n",
              "      <th>0</th>\n",
              "      <td>2</td>\n",
              "      <td>One of the best game music soundtracks - for a...</td>\n",
              "    </tr>\n",
              "    <tr>\n",
              "      <th>1</th>\n",
              "      <td>1</td>\n",
              "      <td>Batteries died within a year ... I bought this...</td>\n",
              "    </tr>\n",
              "    <tr>\n",
              "      <th>2</th>\n",
              "      <td>2</td>\n",
              "      <td>works fine, but Maha Energy is better Check ou...</td>\n",
              "    </tr>\n",
              "    <tr>\n",
              "      <th>3</th>\n",
              "      <td>2</td>\n",
              "      <td>Great for the non-audiophile Reviewed quite a ...</td>\n",
              "    </tr>\n",
              "    <tr>\n",
              "      <th>4</th>\n",
              "      <td>1</td>\n",
              "      <td>DVD Player crapped out after one year I also b...</td>\n",
              "    </tr>\n",
              "    <tr>\n",
              "      <th>...</th>\n",
              "      <td>...</td>\n",
              "      <td>...</td>\n",
              "    </tr>\n",
              "    <tr>\n",
              "      <th>399994</th>\n",
              "      <td>1</td>\n",
              "      <td>Unbelievable- In a Bad Way We bought this Thom...</td>\n",
              "    </tr>\n",
              "    <tr>\n",
              "      <th>399995</th>\n",
              "      <td>1</td>\n",
              "      <td>Almost Great, Until it Broke... My son recieve...</td>\n",
              "    </tr>\n",
              "    <tr>\n",
              "      <th>399996</th>\n",
              "      <td>1</td>\n",
              "      <td>Disappointed !!! I bought this toy for my son ...</td>\n",
              "    </tr>\n",
              "    <tr>\n",
              "      <th>399997</th>\n",
              "      <td>2</td>\n",
              "      <td>Classic Jessica Mitford This is a compilation ...</td>\n",
              "    </tr>\n",
              "    <tr>\n",
              "      <th>399998</th>\n",
              "      <td>1</td>\n",
              "      <td>Comedy Scene, and Not Heard This DVD will be a...</td>\n",
              "    </tr>\n",
              "  </tbody>\n",
              "</table>\n",
              "<p>399975 rows × 2 columns</p>\n",
              "</div>"
            ],
            "text/plain": [
              "        label                                               text\n",
              "0           2  One of the best game music soundtracks - for a...\n",
              "1           1  Batteries died within a year ... I bought this...\n",
              "2           2  works fine, but Maha Energy is better Check ou...\n",
              "3           2  Great for the non-audiophile Reviewed quite a ...\n",
              "4           1  DVD Player crapped out after one year I also b...\n",
              "...       ...                                                ...\n",
              "399994      1  Unbelievable- In a Bad Way We bought this Thom...\n",
              "399995      1  Almost Great, Until it Broke... My son recieve...\n",
              "399996      1  Disappointed !!! I bought this toy for my son ...\n",
              "399997      2  Classic Jessica Mitford This is a compilation ...\n",
              "399998      1  Comedy Scene, and Not Heard This DVD will be a...\n",
              "\n",
              "[399975 rows x 2 columns]"
            ]
          },
          "execution_count": 42,
          "metadata": {},
          "output_type": "execute_result"
        }
      ],
      "source": [
        "test"
      ]
    },
    {
      "cell_type": "code",
      "execution_count": 44,
      "metadata": {},
      "outputs": [
        {
          "name": "stderr",
          "output_type": "stream",
          "text": [
            "[nltk_data] Downloading package vader_lexicon to\n",
            "[nltk_data]     C:\\Users\\caioe\\AppData\\Roaming\\nltk_data...\n",
            "[nltk_data]   Package vader_lexicon is already up-to-date!\n"
          ]
        }
      ],
      "source": [
        "import nltk\n",
        "from nltk.sentiment import SentimentIntensityAnalyzer\n",
        "\n",
        "nltk.download('vader_lexicon')\n",
        "sia = SentimentIntensityAnalyzer()"
      ]
    },
    {
      "cell_type": "code",
      "execution_count": 45,
      "metadata": {},
      "outputs": [],
      "source": [
        "test['predicted_label'] = test['text'].apply(lambda x: sia.polarity_scores(x)['compound'])\n",
        "\n",
        "test['predicted_label'] = test['predicted_label'].apply(lambda x: 2 if x>0 else 1)\n",
        "\n"
      ]
    },
    {
      "cell_type": "code",
      "execution_count": 46,
      "metadata": {},
      "outputs": [
        {
          "data": {
            "text/html": [
              "<div>\n",
              "<style scoped>\n",
              "    .dataframe tbody tr th:only-of-type {\n",
              "        vertical-align: middle;\n",
              "    }\n",
              "\n",
              "    .dataframe tbody tr th {\n",
              "        vertical-align: top;\n",
              "    }\n",
              "\n",
              "    .dataframe thead th {\n",
              "        text-align: right;\n",
              "    }\n",
              "</style>\n",
              "<table border=\"1\" class=\"dataframe\">\n",
              "  <thead>\n",
              "    <tr style=\"text-align: right;\">\n",
              "      <th></th>\n",
              "      <th>label</th>\n",
              "      <th>text</th>\n",
              "      <th>predicted_label</th>\n",
              "    </tr>\n",
              "  </thead>\n",
              "  <tbody>\n",
              "    <tr>\n",
              "      <th>0</th>\n",
              "      <td>2</td>\n",
              "      <td>One of the best game music soundtracks - for a...</td>\n",
              "      <td>2</td>\n",
              "    </tr>\n",
              "    <tr>\n",
              "      <th>1</th>\n",
              "      <td>1</td>\n",
              "      <td>Batteries died within a year ... I bought this...</td>\n",
              "      <td>2</td>\n",
              "    </tr>\n",
              "    <tr>\n",
              "      <th>2</th>\n",
              "      <td>2</td>\n",
              "      <td>works fine, but Maha Energy is better Check ou...</td>\n",
              "      <td>2</td>\n",
              "    </tr>\n",
              "    <tr>\n",
              "      <th>3</th>\n",
              "      <td>2</td>\n",
              "      <td>Great for the non-audiophile Reviewed quite a ...</td>\n",
              "      <td>2</td>\n",
              "    </tr>\n",
              "    <tr>\n",
              "      <th>4</th>\n",
              "      <td>1</td>\n",
              "      <td>DVD Player crapped out after one year I also b...</td>\n",
              "      <td>1</td>\n",
              "    </tr>\n",
              "    <tr>\n",
              "      <th>...</th>\n",
              "      <td>...</td>\n",
              "      <td>...</td>\n",
              "      <td>...</td>\n",
              "    </tr>\n",
              "    <tr>\n",
              "      <th>399994</th>\n",
              "      <td>1</td>\n",
              "      <td>Unbelievable- In a Bad Way We bought this Thom...</td>\n",
              "      <td>2</td>\n",
              "    </tr>\n",
              "    <tr>\n",
              "      <th>399995</th>\n",
              "      <td>1</td>\n",
              "      <td>Almost Great, Until it Broke... My son recieve...</td>\n",
              "      <td>1</td>\n",
              "    </tr>\n",
              "    <tr>\n",
              "      <th>399996</th>\n",
              "      <td>1</td>\n",
              "      <td>Disappointed !!! I bought this toy for my son ...</td>\n",
              "      <td>2</td>\n",
              "    </tr>\n",
              "    <tr>\n",
              "      <th>399997</th>\n",
              "      <td>2</td>\n",
              "      <td>Classic Jessica Mitford This is a compilation ...</td>\n",
              "      <td>2</td>\n",
              "    </tr>\n",
              "    <tr>\n",
              "      <th>399998</th>\n",
              "      <td>1</td>\n",
              "      <td>Comedy Scene, and Not Heard This DVD will be a...</td>\n",
              "      <td>2</td>\n",
              "    </tr>\n",
              "  </tbody>\n",
              "</table>\n",
              "<p>399975 rows × 3 columns</p>\n",
              "</div>"
            ],
            "text/plain": [
              "        label                                               text  \\\n",
              "0           2  One of the best game music soundtracks - for a...   \n",
              "1           1  Batteries died within a year ... I bought this...   \n",
              "2           2  works fine, but Maha Energy is better Check ou...   \n",
              "3           2  Great for the non-audiophile Reviewed quite a ...   \n",
              "4           1  DVD Player crapped out after one year I also b...   \n",
              "...       ...                                                ...   \n",
              "399994      1  Unbelievable- In a Bad Way We bought this Thom...   \n",
              "399995      1  Almost Great, Until it Broke... My son recieve...   \n",
              "399996      1  Disappointed !!! I bought this toy for my son ...   \n",
              "399997      2  Classic Jessica Mitford This is a compilation ...   \n",
              "399998      1  Comedy Scene, and Not Heard This DVD will be a...   \n",
              "\n",
              "        predicted_label  \n",
              "0                     2  \n",
              "1                     2  \n",
              "2                     2  \n",
              "3                     2  \n",
              "4                     1  \n",
              "...                 ...  \n",
              "399994                2  \n",
              "399995                1  \n",
              "399996                2  \n",
              "399997                2  \n",
              "399998                2  \n",
              "\n",
              "[399975 rows x 3 columns]"
            ]
          },
          "execution_count": 46,
          "metadata": {},
          "output_type": "execute_result"
        }
      ],
      "source": [
        "test"
      ]
    },
    {
      "cell_type": "code",
      "execution_count": 47,
      "metadata": {},
      "outputs": [
        {
          "name": "stdout",
          "output_type": "stream",
          "text": [
            "              precision    recall  f1-score   support\n",
            "\n",
            "           1       0.87      0.51      0.65    199984\n",
            "           2       0.66      0.92      0.77    199991\n",
            "\n",
            "    accuracy                           0.72    399975\n",
            "   macro avg       0.76      0.72      0.71    399975\n",
            "weighted avg       0.76      0.72      0.71    399975\n",
            "\n"
          ]
        }
      ],
      "source": [
        "print(classification_report(test['label'], test['predicted_label']))"
      ]
    },
    {
      "cell_type": "markdown",
      "metadata": {},
      "source": [
        "Ok, of course, ML would work better than Vader, but Vader a easy and light method."
      ]
    }
  ],
  "metadata": {
    "colab": {
      "provenance": []
    },
    "kernelspec": {
      "display_name": "Python 3",
      "language": "python",
      "name": "python3"
    },
    "language_info": {
      "codemirror_mode": {
        "name": "ipython",
        "version": 3
      },
      "file_extension": ".py",
      "mimetype": "text/x-python",
      "name": "python",
      "nbconvert_exporter": "python",
      "pygments_lexer": "ipython3",
      "version": "3.11.9"
    }
  },
  "nbformat": 4,
  "nbformat_minor": 0
}
